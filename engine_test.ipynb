{
 "cells": [
  {
   "cell_type": "code",
   "execution_count": 11,
   "metadata": {},
   "outputs": [
    {
     "name": "stderr",
     "output_type": "stream",
     "text": [
      "Some layers from the model checkpoint at Aytijha/bert-finetuned-squad were not used when initializing TFDistilBertForQuestionAnswering: ['dropout_39']\n",
      "- This IS expected if you are initializing TFDistilBertForQuestionAnswering from the checkpoint of a model trained on another task or with another architecture (e.g. initializing a BertForSequenceClassification model from a BertForPreTraining model).\n",
      "- This IS NOT expected if you are initializing TFDistilBertForQuestionAnswering from the checkpoint of a model that you expect to be exactly identical (initializing a BertForSequenceClassification model from a BertForSequenceClassification model).\n",
      "Some layers of TFDistilBertForQuestionAnswering were not initialized from the model checkpoint at Aytijha/bert-finetuned-squad and are newly initialized: ['dropout_219']\n",
      "You should probably TRAIN this model on a down-stream task to be able to use it for predictions and inference.\n"
     ]
    },
    {
     "data": {
      "text/plain": [
       "{'score': 0.8839041590690613,\n",
       " 'start': 1347,\n",
       " 'end': 1390,\n",
       " 'answer': 'LHB wheels and LHB axlesfor Indian Railways'}"
      ]
     },
     "execution_count": 11,
     "metadata": {},
     "output_type": "execute_result"
    }
   ],
   "source": [
    "from transformers import pipeline\n",
    "\n",
    "# Replace this with your own checkpoint\n",
    "model_checkpoint = \"Aytijha/bert-finetuned-squad\"\n",
    "question_answerer = pipeline(\"question-answering\", model=model_checkpoint)\n",
    "\n",
    "context = \"\"\"\n",
    "Durgapur Steel Plant (DSP) set up in late fifties is a leading producer of long products and is the pioneer in manufacturing and supply of forged Railway Wheels & Axles in the country. DSP started production with an initial crude steel capacity of 1 MPTA (million ton per annum) in 1959, which has been progressively increased to 1.8 MTPA during the modernization in nineties and further to 2.2 MTPA during recently completed Modernization & Expansion Plan (MEP). The present Plant capacity is given below.\n",
    "\n",
    " \n",
    "\n",
    "Hot Metal\n",
    "\n",
    "Crude Steel\n",
    "\n",
    "Saleable Steel\n",
    "\n",
    "Capacity (MTPA)\n",
    "\n",
    "2.40\n",
    "\n",
    "2.20\n",
    "\n",
    "2.12\n",
    "\n",
    " \n",
    "\n",
    "Broad facilities:\n",
    "\n",
    "DSP produces liquid steel through conventional BF-BOF route, which is cast into billets, blooms &rounds in its Billet Casters (2 Nos), Bloom Caster and  Bloom cum Round Caster (BRC). The finishing mills comprise of Merchant Mill to produces special quality EQR TMT bars (20 &25 mm), Section Mill for medium structural sections and a state of art Medium Structural Mill (MSM) to produce next generation parallel beams, channels and equal angles.\n",
    "\n",
    "Unique feature of this plant is its Wheel & Axle Plant for making forged wheels and axles catering to Indian Railways. The product portfolio has evolved over the years with ever-changing requirements of railways and includes a variety of loco and coach wheels. DSP has successfully developed LHB wheels and LHB axlesfor Indian Railways.\n",
    "\n",
    "DSP strives to sustain and continually improve various aspects of its performance by maintaining management systems compliant to internationally accredited standards. DSP’s management systems are accredited with ISO 9001: 2015 standard for quality, ISO 14001: 2015 standard for Environment, ISO 50001:2018 for Energy, ISO 27001:2013 for Information Security,ISO45001:2018 for occupational health & safety and SA 8000:2014 for Social Accountability. Products from DSP’s state of the art MSM has been accredited with stringent CE marking certificate to promote their export.\n",
    "\n",
    "Location:\n",
    "\n",
    "Durgapur having geographical location of 27' North & 88.29' East, located at a distance of 158 KM from Kolkata is situated on the banks river Damodar. It has excellent connectivity with various parts of the country as NH-19 (erstwhile GT road) and main Kolkata-Delhi railway line passes through it and direct air connectivity has been established through recent starting of a number of flights from local airport i.e.,KaziNazrul Islam Airport , Andal.\n",
    "\n",
    "Township:\n",
    "\n",
    "Durgapur Steel Plant Township is spread over a sprawling 36 sq. Kmsand has more than 25,000 dwelling units. And it has housing facilities for the employees of DSP, ASP and other business associates. The other amenities include schools, both primary and secondary, a 600 bed hospital with modern medical facilities, the picturesque park, a number of cultural centres, a stadium with a sitting capacity of 15,000, etc.\n",
    "\n",
    "Contribution to the region's development:\n",
    "\n",
    "Over the years, DSP has contributed in a major way which has produced social, environmental and economic benefits to the communities in which it operates. CSR projects are carried out in and steel townships and other close locations in the areas of education, providing medical and health care facilities, village development, access to water facilities, infrastructural development, environment conservation including a 400 acre Bio Diversity park named Vasundhara, women empowerment, assistance to people with disabilities, sustainable income generation, through self-help groups, promotion of sports, art, culture etc. Durgapur Steel Plant is also playing major role in encouraging and developing small-scale industries in the region.\n",
    "\"\"\"\n",
    "question = \"What does DSP produce?\"\n",
    "question_answerer(question=question, context=context)"
   ]
  },
  {
   "cell_type": "code",
   "execution_count": null,
   "metadata": {},
   "outputs": [],
   "source": []
  }
 ],
 "metadata": {
  "kernelspec": {
   "display_name": "Python 3",
   "language": "python",
   "name": "python3"
  },
  "language_info": {
   "codemirror_mode": {
    "name": "ipython",
    "version": 3
   },
   "file_extension": ".py",
   "mimetype": "text/x-python",
   "name": "python",
   "nbconvert_exporter": "python",
   "pygments_lexer": "ipython3",
   "version": "3.10.8"
  },
  "orig_nbformat": 4,
  "vscode": {
   "interpreter": {
    "hash": "42d631c97d3a7942c4c370955af34a4195632f6be3582dbc391d521a11ed78e3"
   }
  }
 },
 "nbformat": 4,
 "nbformat_minor": 2
}
